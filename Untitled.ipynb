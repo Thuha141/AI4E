{
 "cells": [
  {
   "cell_type": "code",
   "execution_count": null,
   "metadata": {},
   "outputs": [],
   "source": [
    "### Bài 1: Tính giá áo phông\n",
    "\n",
    "x = int(input(\"Số lượng áo mua: \"))\n",
    "\n",
    "if 1 <= x <=  9:\n",
    "        tong_gia = 20 * x\n",
    "elif 10<= x <= 19:\n",
    "        tong_gia = (20*x)*0.9\n",
    "elif 20 <= x <= 39:\n",
    "        tong_gia = (20*x)*0.75\n",
    "else:\n",
    "        tong_gia = (20*x)*0.6\n",
    "\n",
    "print(\"Tổng giá cho \", x,\" áo là: \", tong_gia)      "
   ]
  },
  {
   "cell_type": "code",
   "execution_count": null,
   "metadata": {},
   "outputs": [],
   "source": [
    "### Bài 2: \n",
    "\n",
    "A = \"1,5,2,3,5,4,4,3,1,1,1,2,3,1,5,6,2\"\n",
    "B = list(A)"
   ]
  },
  {
   "cell_type": "code",
   "execution_count": null,
   "metadata": {},
   "outputs": [],
   "source": [
    "### Tính số lần tung xúc xắc\n",
    "\n",
    "def dem_so (a):\n",
    "    dem_so = 0\n",
    "    for b in a:\n",
    "        if b != ',':\n",
    "            dem_so+=1\n",
    "    return dem_so \n",
    "\n",
    "print(\"Số lần tung xúc xắc là: \", dem_so(B))"
   ]
  },
  {
   "cell_type": "code",
   "execution_count": null,
   "metadata": {},
   "outputs": [],
   "source": [
    "### Tính tổng tất cả các mặt của các lần tung\n",
    "\n",
    "def tinh_tong(day_so):\n",
    "    tinh_tong = 0\n",
    "    for x in day_so:\n",
    "        if x !=',':\n",
    "            tinh_tong += int(x)\n",
    "    return tinh_tong\n",
    "\n",
    "print(\"Tổng tất cả các mặt của các lần tung là: \", tinh_tong(B))"
   ]
  },
  {
   "cell_type": "code",
   "execution_count": null,
   "metadata": {},
   "outputs": [],
   "source": [
    "### Đếm mặt xuất hiện nhiều nhất \n",
    "\n",
    "B.sort()\n",
    "del B[0:16]\n",
    "\n",
    "dem_mat = max(B, key = B.count)\n",
    "\n",
    "dem_mat\n",
    "\n"
   ]
  },
  {
   "cell_type": "code",
   "execution_count": 3,
   "metadata": {},
   "outputs": [
    {
     "name": "stdout",
     "output_type": "stream",
     "text": [
      "Nhập một số nguyên dương: 23456\n",
      "Số chữ số của số nguyên dương: 5\n",
      "Tổng chẵn là:  6\n",
      "Tổng lẻ là:  8\n"
     ]
    }
   ],
   "source": [
    "###Bài 3: \n",
    "\n",
    "#Nhập vào 1 số nguyên dương và tính số chữ số của nó: \n",
    "\n",
    "A = input(\"Nhập một số nguyên dương: \")\n",
    "print(\"Số chữ số của số nguyên dương: \" + str(len(A)))\n",
    "\n",
    "#Kiểm tra tổng chữ số vị trí chẵn và tổng chữ số vị trí lẻ: \n",
    "\n",
    "def tong_chan_le(so):\n",
    "    tong_chan = 0\n",
    "    tong_le = 0\n",
    "    for i in range(0,len(so)-1):\n",
    "        if i%2 == 0:\n",
    "            tong_chan += int(so[i])\n",
    "        if i%2 !=0:\n",
    "            tong_le += int(so[i])\n",
    "    print(\"Tổng chẵn là: \", tong_chan)\n",
    "    print (\"Tổng lẻ là: \", tong_le)\n",
    "tong_chan_le (A)"
   ]
  },
  {
   "cell_type": "code",
   "execution_count": null,
   "metadata": {},
   "outputs": [],
   "source": [
    "#In ra các số nguyên dương nhỏ hơn 1000 thoả mãn tính chất phần b\n",
    "b =[]\n",
    "for a in range(0,1000):\n",
    "    if a%11==0:\n",
    "        b.append(a)\n",
    "print(b)     "
   ]
  },
  {
   "cell_type": "code",
   "execution_count": 4,
   "metadata": {},
   "outputs": [],
   "source": [
    "import numpy as np\n"
   ]
  },
  {
   "cell_type": "code",
   "execution_count": 5,
   "metadata": {},
   "outputs": [
    {
     "data": {
      "text/plain": [
       "[[0, 0, 0, 0, 0],\n",
       " [0, 1, 1, 0, 0],\n",
       " [0, 1, 1, 0, 0],\n",
       " [0, 0, 1, 0, 0],\n",
       " [0, 0, 0, 0, 0]]"
      ]
     },
     "execution_count": 5,
     "metadata": {},
     "output_type": "execute_result"
    }
   ],
   "source": [
    "a = [[0,0,0,0,0],[0,1,1,0,0],[0,1,1,0,0],[0,0,1,0,0],[0,0,0,0,0]]\n",
    "a"
   ]
  },
  {
   "cell_type": "code",
   "execution_count": null,
   "metadata": {},
   "outputs": [],
   "source": []
  }
 ],
 "metadata": {
  "kernelspec": {
   "display_name": "Python 3",
   "language": "python",
   "name": "python3"
  },
  "language_info": {
   "codemirror_mode": {
    "name": "ipython",
    "version": 3
   },
   "file_extension": ".py",
   "mimetype": "text/x-python",
   "name": "python",
   "nbconvert_exporter": "python",
   "pygments_lexer": "ipython3",
   "version": "3.7.6"
  }
 },
 "nbformat": 4,
 "nbformat_minor": 4
}
